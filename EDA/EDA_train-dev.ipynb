{
 "cells": [
  {
   "cell_type": "markdown",
   "id": "cfd73b5d",
   "metadata": {},
   "source": [
    "<div align=right>\n",
    "LAP3 EMLCT Introduction to Automatic Learning<br>\n",
    "Elisa Rodríguez Forcada<br>\n",
    "María García-Abadillo Velasco<br>\n",
    "Fall 2023\n",
    "</div>\n",
    "\n",
    "<h1 align=center> 🔎 SMS SPAM COLLECTION: Exploratory Data Analysis</h1>"
   ]
  },
  {
   "cell_type": "markdown",
   "id": "81e399ea",
   "metadata": {},
   "source": [
    "This Jupyter notebook serves as a quantitative analysis of the project's train and development set (as of now referred as train-dev set), complementing the paper titled _Size Does Matter: Preprocessing Methods for Enhancing Machine\n",
    "Learning Algorithms in SMS Spam Detection_.\n",
    "The associated paper can be found on [GITHUB](https://github.com/mariagabv/sms-classifier-WEKA.git).\n",
    "\n",
    "In this notebook, the following points will be covered:\n",
    "- General analysis on a sentence level for the train-dev set,\n",
    "- General analysis on a token level for the train set (64% of the data)\n",
    "- General analysis on a token level for the dev set (16% of the data)\n",
    "- General analysis on a token level for the test set (20% of the data)\n",
    "- Analysis on a token level for the train-dev set:\n",
    "    - General analysis\n",
    "    - Visualization\n",
    "    - Example extraction\n",
    "- Emoji Analysis"
   ]
  },
  {
   "cell_type": "code",
   "execution_count": 8,
   "id": "2efd2b7c",
   "metadata": {},
   "outputs": [],
   "source": [
    "import sys\n",
    "sys.path.append('COPY PATH HERE')"
   ]
  },
  {
   "cell_type": "code",
   "execution_count": 9,
   "id": "4ff922dc",
   "metadata": {
    "scrolled": true
   },
   "outputs": [
    {
     "name": "stderr",
     "output_type": "stream",
     "text": [
      "[nltk_data] Downloading package punkt to\n",
      "[nltk_data]     C:\\Users\\usuario\\AppData\\Roaming\\nltk_data...\n",
      "[nltk_data]   Package punkt is already up-to-date!\n"
     ]
    }
   ],
   "source": [
    "import numpy as np\n",
    "import regex as re\n",
    "import nltk\n",
    "from nltk.tokenize import word_tokenize\n",
    "from utils import (get_sentences,\n",
    "                   get_stats,\n",
    "                   tokenizer,\n",
    "                   get_stats_tokens,\n",
    "                   get_basics_tokens,\n",
    "                   get_advanced_tokens,\n",
    "                   extract_emojis,\n",
    "                   count_emojis,\n",
    "                   sentence_parser_emoji,\n",
    "                   plot_custom_boxplots)\n",
    "nltk.download('punkt')\n",
    "import matplotlib.pyplot as plt\n"
   ]
  },
  {
   "cell_type": "code",
   "execution_count": 10,
   "id": "c409a239",
   "metadata": {
    "scrolled": true
   },
   "outputs": [],
   "source": [
    "# Import train-dev file\n",
    "filepath = '../train_and_dev.arff'\n",
    "# Import train file\n",
    "filepath_train = '../datasets/train.arff'\n",
    "# Import dev file\n",
    "filepath_dev = '../datasets/dev.arff'\n",
    "# Import test file\n",
    "filepath_test = '../datasets/test.arff'"
   ]
  },
  {
   "cell_type": "code",
   "execution_count": 11,
   "id": "1a09513f",
   "metadata": {
    "scrolled": false
   },
   "outputs": [],
   "source": [
    "# Extract ham and spam messages separately for the train-dev\n",
    "ham, spam = get_sentences(filepath)"
   ]
  },
  {
   "cell_type": "markdown",
   "id": "3abe2078",
   "metadata": {},
   "source": [
    "## Analysis on a sentence level (train-dev)"
   ]
  },
  {
   "cell_type": "markdown",
   "id": "79a2b275",
   "metadata": {},
   "source": [
    "In the following snippets, the analysis for the train-dev set before tokenization is presented. In total, it comprises 4458 instances. The sentence length is measured in charachters. "
   ]
  },
  {
   "cell_type": "code",
   "execution_count": 41,
   "id": "798fc063",
   "metadata": {
    "scrolled": true,
    "tags": [
     "\"metadata\":",
     "{",
     "\"trusted\":",
     "true",
     "\"editable\":",
     "false",
     "\"deletable\":",
     "}"
    ]
   },
   "outputs": [
    {
     "name": "stdout",
     "output_type": "stream",
     "text": [
      "Ham\n",
      "Total sentences: 3861\n",
      "Average sentence length: 72\n",
      "Minimum sentence length: 2\n",
      "Maximum sentence length: 909\n",
      "Percentile 25, length: 34.0\n",
      "Percentile 50, length: 93.0\n"
     ]
    }
   ],
   "source": [
    "print(\"Ham\")\n",
    "get_stats(ham)"
   ]
  },
  {
   "cell_type": "code",
   "execution_count": 37,
   "id": "fb1c6b8f",
   "metadata": {
    "scrolled": true
   },
   "outputs": [
    {
     "name": "stdout",
     "output_type": "stream",
     "text": [
      "Spam\n",
      "Total sentences: 597\n",
      "Average sentence length: 139\n",
      "Minimum sentence length: 18\n",
      "Maximum sentence length: 223\n",
      "Percentile 25, length: 132.0\n",
      "Percentile 50, length: 157.0\n"
     ]
    }
   ],
   "source": [
    "print(\"Spam\")\n",
    "get_stats(spam)"
   ]
  },
  {
   "cell_type": "markdown",
   "id": "15f3c8ca",
   "metadata": {},
   "source": [
    "## Analysis on a token level for train"
   ]
  },
  {
   "cell_type": "markdown",
   "id": "6b3338c7",
   "metadata": {},
   "source": [
    "Next, the train set is tokenized and separatedly analysed."
   ]
  },
  {
   "cell_type": "code",
   "execution_count": 14,
   "id": "81ca019d",
   "metadata": {},
   "outputs": [],
   "source": [
    "# Extract ham and spam messages separately for the train\n",
    "ham_train, spam_train = get_sentences(filepath_train)"
   ]
  },
  {
   "cell_type": "code",
   "execution_count": 15,
   "id": "40b57b2a",
   "metadata": {
    "scrolled": true
   },
   "outputs": [],
   "source": [
    "tokens_spam_train, tokens_list_spam_train = get_stats_tokens(spam_train)\n",
    "tokens_ham_train, tokens_list_ham_train = get_stats_tokens(ham_train)"
   ]
  },
  {
   "cell_type": "code",
   "execution_count": 42,
   "id": "a3456e36",
   "metadata": {
    "scrolled": false
   },
   "outputs": [
    {
     "name": "stdout",
     "output_type": "stream",
     "text": [
      "Train set\n",
      "Total tokens: 66876\n",
      "Spam tokens: 13381\n",
      "Ham tokens: 53495\n"
     ]
    }
   ],
   "source": [
    "print(\"Train set\")\n",
    "get_basics_tokens(tokens_ham_train, tokens_list_ham_train, tokens_spam_train, tokens_list_spam_train)"
   ]
  },
  {
   "cell_type": "markdown",
   "id": "4b9b47fd",
   "metadata": {},
   "source": [
    "## Analysis on a token level for dev"
   ]
  },
  {
   "cell_type": "markdown",
   "id": "cd64a2d3",
   "metadata": {},
   "source": [
    "Following, the development set is tokenized and analysed separatedly from the train set. "
   ]
  },
  {
   "cell_type": "code",
   "execution_count": 17,
   "id": "d0c9971f",
   "metadata": {},
   "outputs": [],
   "source": [
    "# Extract ham and spam messages separately for the DEV\n",
    "ham_dev, spam_dev = get_sentences(filepath_dev)"
   ]
  },
  {
   "cell_type": "code",
   "execution_count": 18,
   "id": "61a69ca4",
   "metadata": {
    "scrolled": true
   },
   "outputs": [],
   "source": [
    "tokens_spam_dev, tokens_list_spam_dev = get_stats_tokens(spam_dev)\n",
    "tokens_ham_dev, tokens_list_ham_dev = get_stats_tokens(ham_dev)"
   ]
  },
  {
   "cell_type": "code",
   "execution_count": 40,
   "id": "2198c58e",
   "metadata": {
    "scrolled": false
   },
   "outputs": [
    {
     "name": "stdout",
     "output_type": "stream",
     "text": [
      "Development set\n",
      "Total tokens: 16449\n",
      "Spam tokens: 3345\n",
      "Ham tokens: 13104\n"
     ]
    }
   ],
   "source": [
    "print(\"Development set\")\n",
    "get_basics_tokens(tokens_ham_dev, tokens_list_ham_dev, tokens_spam_dev, tokens_list_spam_dev)"
   ]
  },
  {
   "cell_type": "markdown",
   "id": "44bf4db2",
   "metadata": {},
   "source": [
    "## Analysis on a token level for test "
   ]
  },
  {
   "cell_type": "markdown",
   "id": "3559cf7a",
   "metadata": {},
   "source": [
    "Thirdly, the test set is also analysed. Since the test set must remain blind both to the model and the authors, no further analyses will be conducted."
   ]
  },
  {
   "cell_type": "code",
   "execution_count": 20,
   "id": "94a80e94",
   "metadata": {},
   "outputs": [],
   "source": [
    "# Extract ham and spam messages separately for the test\n",
    "ham_test, spam_test = get_sentences(filepath_test)"
   ]
  },
  {
   "cell_type": "code",
   "execution_count": 21,
   "id": "625f4fed",
   "metadata": {
    "scrolled": true
   },
   "outputs": [],
   "source": [
    "tokens_spam_test, tokens_list_spam_test = get_stats_tokens(spam_test)\n",
    "tokens_ham_test, tokens_list_ham_test = get_stats_tokens(ham_test)"
   ]
  },
  {
   "cell_type": "code",
   "execution_count": 43,
   "id": "6869eea9",
   "metadata": {
    "scrolled": true
   },
   "outputs": [
    {
     "name": "stdout",
     "output_type": "stream",
     "text": [
      "Development set\n",
      "Total tokens: 20485\n",
      "Spam tokens: 4084\n",
      "Ham tokens: 16401\n"
     ]
    }
   ],
   "source": [
    "print(\"Development set\")\n",
    "get_basics_tokens(tokens_ham_test, tokens_list_ham_test, tokens_spam_test, tokens_list_spam_test)"
   ]
  },
  {
   "cell_type": "markdown",
   "id": "df57a96c",
   "metadata": {},
   "source": [
    "## Analysis on a token level for train-dev set"
   ]
  },
  {
   "cell_type": "markdown",
   "id": "988e2355",
   "metadata": {},
   "source": [
    "Finally, the analysis for the train-dev is performed. This is the 80% of the data on which the models will be trained."
   ]
  },
  {
   "cell_type": "code",
   "execution_count": 23,
   "id": "a855c7d6",
   "metadata": {
    "scrolled": true
   },
   "outputs": [],
   "source": [
    "tokens_spam, tokens_list_spam = get_stats_tokens(spam)\n",
    "tokens_ham, tokens_list_ham = get_stats_tokens(ham)"
   ]
  },
  {
   "cell_type": "code",
   "execution_count": 46,
   "id": "9f59378f",
   "metadata": {
    "scrolled": true
   },
   "outputs": [
    {
     "name": "stdout",
     "output_type": "stream",
     "text": [
      "Train-Dev set\n",
      "Total tokens: 83325\n",
      "Spam tokens: 16726\n",
      "Ham tokens: 66599\n"
     ]
    }
   ],
   "source": [
    "print(\"Train-Dev set\")\n",
    "get_basics_tokens(tokens_ham, tokens_list_ham, tokens_spam, tokens_list_spam)"
   ]
  },
  {
   "cell_type": "markdown",
   "id": "a070e1ad",
   "metadata": {},
   "source": [
    "We will conduct the same analysis at the token level as we did at the sentence level to gain a more comprehensive understanding of their respective characteristics. Please note that the following token information is solely informative, as we will not use the nltk library for tokenization in our experiments, but rather the tokenizers provided by WEKA."
   ]
  },
  {
   "cell_type": "code",
   "execution_count": 44,
   "id": "54d83142",
   "metadata": {},
   "outputs": [
    {
     "name": "stdout",
     "output_type": "stream",
     "text": [
      "Ham Statistics for train-dev:\n",
      "Average sentence length (tokens): 17\n",
      "Minimum sentence length (tokens): 1\n",
      "Maximum sentence length (tokens): 185\n",
      "Percentile 25, length: 8.0\n",
      "Percentile 75, length: 22.0\n"
     ]
    }
   ],
   "source": [
    "print(\"Ham Statistics for train-dev:\")\n",
    "get_advanced_tokens(tokens_ham, tokens_list_ham)"
   ]
  },
  {
   "cell_type": "code",
   "execution_count": 45,
   "id": "ae7c2dad",
   "metadata": {
    "scrolled": false
   },
   "outputs": [
    {
     "name": "stdout",
     "output_type": "stream",
     "text": [
      "Spam Statistics for train-dev:\n",
      "Average sentence length (tokens): 28\n",
      "Minimum sentence length (tokens): 2\n",
      "Maximum sentence length (tokens): 46\n",
      "Percentile 25, length: 25.0\n",
      "Percentile 75, length: 32.0\n"
     ]
    }
   ],
   "source": [
    "print(\"Spam Statistics for train-dev:\")\n",
    "get_advanced_tokens(tokens_spam, tokens_list_spam)"
   ]
  },
  {
   "cell_type": "markdown",
   "id": "e3f10096",
   "metadata": {},
   "source": [
    "Next, this data is presented in a boxplot for space efficiency in the final paper."
   ]
  },
  {
   "cell_type": "code",
   "execution_count": 27,
   "id": "264284ee",
   "metadata": {
    "scrolled": false
   },
   "outputs": [
    {
     "data": {
      "image/png": "[encoded data removed]",
      "text/plain": [
       "<Figure size 1200x600 with 2 Axes>"
      ]
     },
     "metadata": {},
     "output_type": "display_data"
    }
   ],
   "source": [
    "ham_data = [len(sentence) for sentence in tokens_list_ham]  \n",
    "spam_data = [len(sentence) for sentence in tokens_list_spam]  \n",
    "\n",
    "\n",
    "plot_custom_boxplots(ham_data, spam_data)"
   ]
  },
  {
   "cell_type": "markdown",
   "id": "b8338535",
   "metadata": {},
   "source": [
    "In the forthcoming section, we will analyze specific cases from our data to gain a better comprehension of the outliers. Initially, we will observe the briefest and lengthiest SMS within every category."
   ]
  },
  {
   "cell_type": "code",
   "execution_count": 28,
   "id": "426eb20d",
   "metadata": {
    "scrolled": true
   },
   "outputs": [
    {
     "name": "stdout",
     "output_type": "stream",
     "text": [
      "ham longest sentence index: 2425\n",
      "The last thing i ever wanted to do was hurt you. And i didnt think it would have. Youd laugh, be embarassed, delete the tag and keep going. But as far as i knew, it wasnt even up. The fact that you even felt like i would do it to hurt you shows you really dont know me at all. It was messy wednesday, but it wasnt bad. The problem i have with it is you HAVE the time to clean it, but you choose not to. You skype, you take pictures, you sleep, you want to go out. I dont mind a few things here and there, but when you dont make the bed, when you throw laundry on top of it, when i cant have a friend in the house because im embarassed that theres underwear and bras strewn on the bed, pillows on the floor, thats something else. You used to be good about at least making the bed.\n",
      "\n",
      "ham shortest sentence index: 568\n",
      "Okie\n"
     ]
    }
   ],
   "source": [
    "sentence_lengths = [len(sentence) for sentence in tokens_list_ham]\n",
    "min_idx = np.argmin(sentence_lengths)\n",
    "max_idx = np.argmax(sentence_lengths)\n",
    "print(f\"ham longest sentence index: {max_idx}\\n{ham[2425]}\")\n",
    "print()\n",
    "print(f\"ham shortest sentence index: {min_idx}\\n{ham[568]}\")"
   ]
  },
  {
   "cell_type": "markdown",
   "id": "22ff8463",
   "metadata": {},
   "source": [
    "The longest ham instance details a complex emotional expression regarding a perceived misunderstanding. In contrast, the shortest ham message (index 568) consists of some short of monosyllable."
   ]
  },
  {
   "cell_type": "code",
   "execution_count": 29,
   "id": "3875f429",
   "metadata": {
    "scrolled": true
   },
   "outputs": [
    {
     "name": "stdout",
     "output_type": "stream",
     "text": [
      "spam longest sentence index: 542\n",
      "URGENT! Your mobile number *************** WON a £2000 Bonus Caller prize on 10/06/03! This is the 2nd attempt to reach you! Call 09066368753 ASAP! Box 97N7QP, 150ppm\n",
      "\n",
      "spam shortest sentence index: 135\n",
      "ringtoneking 84484\n"
     ]
    }
   ],
   "source": [
    "sentence_lengths = [len(sentence) for sentence in tokens_list_spam]\n",
    "min_idx = np.argmin(sentence_lengths)\n",
    "max_idx = np.argmax(sentence_lengths)\n",
    "print(f\"spam longest sentence index: {max_idx}\\n{spam[542]}\")\n",
    "print()\n",
    "print(f\"spam shortest sentence index: {min_idx}\\n{spam[135]}\")"
   ]
  },
  {
   "cell_type": "markdown",
   "id": "f7bcbbbc",
   "metadata": {},
   "source": [
    "The longest spam instance represents a classic spam message, urgently claiming a prize and prompting a call to a specific number. Conversely, the shortest spam message is succinct and does not include any classical request."
   ]
  },
  {
   "cell_type": "markdown",
   "id": "6cdf42a5",
   "metadata": {},
   "source": [
    "Finally, we assume that we will find several emoticons in our dataset. We will try to extract all of them using the following pattern:\n",
    "\n",
    "``[:;][-]?[\\']?[)(\\*\\$\\|BDOSdPp/\\\\]+(?<![:/\\\\]``"
   ]
  },
  {
   "cell_type": "code",
   "execution_count": 33,
   "id": "64179f4b",
   "metadata": {
    "scrolled": false
   },
   "outputs": [
    {
     "data": {
      "text/plain": [
       "[':-)',\n",
       " ':-)',\n",
       " ':)',\n",
       " ':)',\n",
       " ':-)',\n",
       " ':-)',\n",
       " ':)',\n",
       " ':)',\n",
       " ';D',\n",
       " ':)',\n",
       " ':-D',\n",
       " ':-)',\n",
       " ':-)',\n",
       " ':)',\n",
       " ';D',\n",
       " ':)',\n",
       " ':)',\n",
       " ':)',\n",
       " ':-)',\n",
       " ':-)',\n",
       " ':)',\n",
       " ':)',\n",
       " ':)',\n",
       " ':-)',\n",
       " ':)',\n",
       " ':)',\n",
       " ':-)',\n",
       " ';-)',\n",
       " ':-)',\n",
       " ':-)',\n",
       " ':(',\n",
       " ':-(',\n",
       " ':)',\n",
       " ':)',\n",
       " ':)',\n",
       " ':)',\n",
       " ':)',\n",
       " ':)',\n",
       " ':)',\n",
       " ';D',\n",
       " ';D',\n",
       " ';D',\n",
       " ':-)',\n",
       " ':)',\n",
       " ':-)',\n",
       " ':-)',\n",
       " ':-)',\n",
       " ':)',\n",
       " ':-)',\n",
       " ':)',\n",
       " ':-)',\n",
       " ':-)',\n",
       " ':-)',\n",
       " ';D',\n",
       " ';D',\n",
       " ':)',\n",
       " ';-)',\n",
       " ':)',\n",
       " ';D',\n",
       " ':)',\n",
       " ':)',\n",
       " ':)',\n",
       " ':)',\n",
       " ':)',\n",
       " ':)',\n",
       " ';-)',\n",
       " ':-)',\n",
       " ':)',\n",
       " ':)',\n",
       " ':)',\n",
       " ':)',\n",
       " ':)',\n",
       " ':-)',\n",
       " ':)',\n",
       " ':)',\n",
       " ':-)',\n",
       " ':)',\n",
       " ';D',\n",
       " ':)',\n",
       " ':)',\n",
       " ':-)',\n",
       " ':(',\n",
       " ':)',\n",
       " ':)',\n",
       " ';D',\n",
       " ':)',\n",
       " ':)',\n",
       " ':*',\n",
       " ';)',\n",
       " ':)',\n",
       " ':)',\n",
       " ':)',\n",
       " ':)',\n",
       " ':)',\n",
       " ':)',\n",
       " ':)',\n",
       " ':)',\n",
       " ':)',\n",
       " ':-)',\n",
       " ':-(',\n",
       " ':)',\n",
       " ':-)',\n",
       " ':-)',\n",
       " ':-)',\n",
       " ':(',\n",
       " ':)',\n",
       " ';D',\n",
       " ':-(',\n",
       " ':-)',\n",
       " ':)',\n",
       " ':)',\n",
       " ':-P',\n",
       " ':)',\n",
       " ':)',\n",
       " ':)',\n",
       " ':)',\n",
       " ':(',\n",
       " ':-)',\n",
       " ':)',\n",
       " ':)',\n",
       " ':)',\n",
       " ':-(',\n",
       " ';-(',\n",
       " ':-)',\n",
       " ':-)',\n",
       " ':)',\n",
       " ':-)',\n",
       " ':)',\n",
       " ':-)',\n",
       " ':-)',\n",
       " ':-)',\n",
       " ':)',\n",
       " ':)',\n",
       " ':)',\n",
       " ':)',\n",
       " ':O',\n",
       " ':)',\n",
       " ':)',\n",
       " ';-(',\n",
       " ':)',\n",
       " ':)',\n",
       " ':-)',\n",
       " ':-)',\n",
       " ':)',\n",
       " ':)',\n",
       " ':)',\n",
       " ':)',\n",
       " ':(',\n",
       " ':-P',\n",
       " ':)',\n",
       " ':)',\n",
       " ':-)',\n",
       " ':)',\n",
       " ':)',\n",
       " ';D',\n",
       " ':)',\n",
       " ':)',\n",
       " ':)',\n",
       " ':)',\n",
       " ':)',\n",
       " ':)',\n",
       " ':D',\n",
       " ':)',\n",
       " ':)',\n",
       " ':)',\n",
       " ';D',\n",
       " ':-)',\n",
       " ':)',\n",
       " ':-)',\n",
       " ';-)',\n",
       " ';-)',\n",
       " ':-D',\n",
       " ':)',\n",
       " ':-)',\n",
       " ':)',\n",
       " ':-)',\n",
       " ':(',\n",
       " ':-)',\n",
       " ':)',\n",
       " ':)',\n",
       " ':)',\n",
       " ':)',\n",
       " ':)',\n",
       " ':-(',\n",
       " ':)',\n",
       " ':)',\n",
       " ':)',\n",
       " ':)',\n",
       " ':)',\n",
       " ':)',\n",
       " ':)',\n",
       " ':)',\n",
       " ':-)',\n",
       " ':)',\n",
       " ':-)',\n",
       " ':)',\n",
       " ':)',\n",
       " ':)',\n",
       " ':)',\n",
       " ':-)',\n",
       " ':)',\n",
       " ':)',\n",
       " ':-)',\n",
       " ':)',\n",
       " ':-)',\n",
       " ':-)',\n",
       " ':-)',\n",
       " ':-(',\n",
       " ':-)',\n",
       " ':-)',\n",
       " ':)',\n",
       " ';)',\n",
       " ':)',\n",
       " ':)',\n",
       " ';D',\n",
       " ';D',\n",
       " ':-)',\n",
       " ':)',\n",
       " ':-)',\n",
       " ':-)',\n",
       " ':)',\n",
       " ':D',\n",
       " ';)',\n",
       " ':)',\n",
       " ':-)',\n",
       " ':)',\n",
       " ':)',\n",
       " ':)',\n",
       " ':)',\n",
       " ':-)',\n",
       " ':D',\n",
       " ':)',\n",
       " ':)',\n",
       " ':)',\n",
       " ':)',\n",
       " ':)',\n",
       " ':)',\n",
       " ':-)',\n",
       " ';D',\n",
       " ':)',\n",
       " ':)',\n",
       " ':)',\n",
       " ':-)p',\n",
       " ':-)',\n",
       " ':)',\n",
       " ':-P',\n",
       " ':)',\n",
       " ':)',\n",
       " ':)d',\n",
       " ':)',\n",
       " ':-)',\n",
       " ':)',\n",
       " ':-)',\n",
       " ':)',\n",
       " ':-)',\n",
       " ':-)',\n",
       " ':)',\n",
       " ':)',\n",
       " ':)',\n",
       " ':)',\n",
       " ':-)',\n",
       " ';D',\n",
       " ':)',\n",
       " ':)',\n",
       " ':-(',\n",
       " ':-)',\n",
       " ':(',\n",
       " ':)',\n",
       " ':)',\n",
       " ':)',\n",
       " ':-)',\n",
       " ':)',\n",
       " ':-D',\n",
       " ':)',\n",
       " ':)',\n",
       " ':-)',\n",
       " ':)',\n",
       " ';D',\n",
       " ':)',\n",
       " ':)',\n",
       " ':)',\n",
       " ':-(',\n",
       " ':(',\n",
       " ':-)',\n",
       " ':)',\n",
       " ':)d',\n",
       " ':)',\n",
       " ':)',\n",
       " ':-)',\n",
       " ':-(',\n",
       " ':)',\n",
       " ':(',\n",
       " ':-)',\n",
       " ':-)',\n",
       " ';-)B',\n",
       " ':)',\n",
       " ':-|',\n",
       " ';)',\n",
       " ':)',\n",
       " ':)',\n",
       " ':)',\n",
       " ':)',\n",
       " ':)',\n",
       " ':)',\n",
       " ':-)',\n",
       " ':-)',\n",
       " ':)',\n",
       " ':-)',\n",
       " ':)',\n",
       " ':)',\n",
       " ':)',\n",
       " ':O',\n",
       " ':-)',\n",
       " ':)',\n",
       " ':)',\n",
       " ':)',\n",
       " ':)',\n",
       " ':-)',\n",
       " ':-)',\n",
       " ':)',\n",
       " ':)',\n",
       " ':)',\n",
       " ':)',\n",
       " ':)',\n",
       " ':)',\n",
       " ':-)',\n",
       " ':)',\n",
       " ':-(',\n",
       " ':D',\n",
       " ';)',\n",
       " ';-)',\n",
       " ':)',\n",
       " ':)',\n",
       " ':)',\n",
       " ':-)',\n",
       " ';D',\n",
       " ':)',\n",
       " ':)',\n",
       " ':)',\n",
       " ':-(',\n",
       " ':-)',\n",
       " ':)',\n",
       " ':-(',\n",
       " ':-)',\n",
       " ':)',\n",
       " ':)',\n",
       " ':)',\n",
       " ':-)',\n",
       " ':-)',\n",
       " ';-)',\n",
       " ':)',\n",
       " ':)',\n",
       " ';D',\n",
       " ':-D',\n",
       " ':)',\n",
       " ':)',\n",
       " ':)',\n",
       " ';)',\n",
       " ':-(',\n",
       " ':)',\n",
       " ':)',\n",
       " ':)',\n",
       " ':-)',\n",
       " ':-)',\n",
       " ':)',\n",
       " ':-)',\n",
       " ':S']"
      ]
     },
     "execution_count": 33,
     "metadata": {},
     "output_type": "execute_result"
    }
   ],
   "source": [
    "# Import train-dev file before emoji replacement. This file was not used for the experiments.\n",
    "extract_emojis(\"../EDA/train_emojis.arff\")"
   ]
  },
  {
   "cell_type": "code",
   "execution_count": 34,
   "id": "6266adb9",
   "metadata": {
    "scrolled": true,
    "tags": [
     "\"metadata\":",
     "{",
     "\"trusted\":",
     "true",
     "\"editable\":",
     "false",
     "\"deletable\":",
     "}"
    ]
   },
   "outputs": [],
   "source": [
    "ham_messages, spam_messages = sentence_parser_emoji(\"../EDA/train_emojis.arff\")"
   ]
  },
  {
   "cell_type": "code",
   "execution_count": 35,
   "id": "a2bf0172",
   "metadata": {},
   "outputs": [
    {
     "name": "stdout",
     "output_type": "stream",
     "text": [
      "Total number of emojis in ham:  366\n",
      "Total number of emojis in spam:  1\n"
     ]
    }
   ],
   "source": [
    "print(\"Total number of emojis in ham: \", count_emojis(ham_messages))\n",
    "print(\"Total number of emojis in spam: \",count_emojis(spam_messages))"
   ]
  },
  {
   "cell_type": "markdown",
   "id": "5e3468aa",
   "metadata": {},
   "source": [
    "This imbalance suggests that emoji are more commonly used in non-spam messages, while spammers tend to rely less on this form of expression. This encourages us to replace any emoji that matches this pattern with the token [EMOJI] so that they are all treated equally and are not lost in the tokenisation process. Further emoji preprocessing is an interesting line of research for the future."
   ]
  }
 ],
 "metadata": {
  "kernelspec": {
   "display_name": "Python 3 (ipykernel)",
   "language": "python",
   "name": "python3"
  },
  "language_info": {
   "codemirror_mode": {
    "name": "ipython",
    "version": 3
   },
   "file_extension": ".py",
   "mimetype": "text/x-python",
   "name": "python",
   "nbconvert_exporter": "python",
   "pygments_lexer": "ipython3",
   "version": "3.11.4"
  }
 },
 "nbformat": 4,
 "nbformat_minor": 5
}
